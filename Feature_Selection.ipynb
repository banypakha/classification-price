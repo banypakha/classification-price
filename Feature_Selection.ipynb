{
  "nbformat": 4,
  "nbformat_minor": 0,
  "metadata": {
    "colab": {
      "name": "Feature Selection.ipynb",
      "provenance": [],
      "collapsed_sections": []
    },
    "kernelspec": {
      "name": "python3",
      "display_name": "Python 3"
    },
    "accelerator": "GPU"
  },
  "cells": [
    {
      "cell_type": "code",
      "metadata": {
        "id": "YuYqis-7HcVa",
        "colab_type": "code",
        "colab": {}
      },
      "source": [
        "import tensorflow as tf\n",
        "assert tf.__version__.startswith('2')\n",
        "\n",
        "import os\n",
        "import numpy as np\n",
        "import matplotlib.pyplot as plt\n",
        "from pandas import read_csv\n",
        "from sklearn.model_selection import train_test_split\n",
        "from sklearn.preprocessing import LabelEncoder\n",
        "from sklearn.preprocessing import OrdinalEncoder\n",
        "from sklearn.feature_selection import SelectKBest\n",
        "from sklearn.feature_selection import chi2\n",
        "from sklearn.feature_selection import mutual_info_classif"
      ],
      "execution_count": 57,
      "outputs": []
    },
    {
      "cell_type": "code",
      "metadata": {
        "id": "P3EUedN4NVoK",
        "colab_type": "code",
        "colab": {
          "base_uri": "https://localhost:8080/",
          "height": 35
        },
        "outputId": "a225ba96-b826-4223-aadc-5909477eb561"
      },
      "source": [
        "import numpy as np\n",
        "import pandas as pd\n",
        "import tensorflow as tf\n",
        "from tensorflow import feature_column\n",
        "from tensorflow.keras import layers\n",
        "from matplotlib import pyplot as plt\n",
        "\n",
        "# The following lines adjust the granularity of reporting.\n",
        "pd.options.display.max_rows = 10\n",
        "pd.options.display.float_format = \"{:.1f}\".format\n",
        "# tf.keras.backend.set_floatx('float32')\n",
        "\n",
        "print(\"Ran the import statements.\")"
      ],
      "execution_count": 58,
      "outputs": [
        {
          "output_type": "stream",
          "text": [
            "Ran the import statements.\n"
          ],
          "name": "stdout"
        }
      ]
    },
    {
      "cell_type": "code",
      "metadata": {
        "id": "Uvtkzj3aINN3",
        "colab_type": "code",
        "colab": {
          "base_uri": "https://localhost:8080/",
          "height": 36
        },
        "outputId": "d1622254-5e6a-45ae-ca3f-1b76db04c551"
      },
      "source": [
        "tf.__version__"
      ],
      "execution_count": 59,
      "outputs": [
        {
          "output_type": "execute_result",
          "data": {
            "application/vnd.google.colaboratory.intrinsic": {
              "type": "string"
            },
            "text/plain": [
              "'2.2.0'"
            ]
          },
          "metadata": {
            "tags": []
          },
          "execution_count": 59
        }
      ]
    },
    {
      "cell_type": "code",
      "metadata": {
        "id": "OlX6WRoiIdUv",
        "colab_type": "code",
        "colab": {
          "base_uri": "https://localhost:8080/",
          "height": 129
        },
        "outputId": "8113b5c7-b222-474c-f6a8-684ad37e91a0"
      },
      "source": [
        "from google.colab import drive\n",
        "drive.mount('/content/gdrive', force_remount=True)"
      ],
      "execution_count": 5,
      "outputs": [
        {
          "output_type": "stream",
          "text": [
            "Go to this URL in a browser: https://accounts.google.com/o/oauth2/auth?client_id=947318989803-6bn6qk8qdgf4n4g3pfee6491hc0brc4i.apps.googleusercontent.com&redirect_uri=urn%3aietf%3awg%3aoauth%3a2.0%3aoob&response_type=code&scope=email%20https%3a%2f%2fwww.googleapis.com%2fauth%2fdocs.test%20https%3a%2f%2fwww.googleapis.com%2fauth%2fdrive%20https%3a%2f%2fwww.googleapis.com%2fauth%2fdrive.photos.readonly%20https%3a%2f%2fwww.googleapis.com%2fauth%2fpeopleapi.readonly\n",
            "\n",
            "Enter your authorization code:\n",
            "··········\n",
            "Mounted at /content/gdrive\n"
          ],
          "name": "stdout"
        }
      ]
    },
    {
      "cell_type": "code",
      "metadata": {
        "id": "iDAH5t0IIgu5",
        "colab_type": "code",
        "colab": {
          "base_uri": "https://localhost:8080/",
          "height": 35
        },
        "outputId": "59fa60a2-e1b9-4979-a644-3cf14f4087d0"
      },
      "source": [
        "!ls \"/content/gdrive/My Drive/classification-regression/\""
      ],
      "execution_count": 60,
      "outputs": [
        {
          "output_type": "stream",
          "text": [
            "datasets_11167_15520_test.csv  datasets_11167_15520_train.csv\n"
          ],
          "name": "stdout"
        }
      ]
    },
    {
      "cell_type": "code",
      "metadata": {
        "id": "IT6GgzVzPhw8",
        "colab_type": "code",
        "colab": {}
      },
      "source": [
        "PATH = \"/content/gdrive/My Drive/classification-regression/\""
      ],
      "execution_count": 61,
      "outputs": []
    },
    {
      "cell_type": "code",
      "metadata": {
        "id": "3kNO2FEjP-7q",
        "colab_type": "code",
        "colab": {
          "base_uri": "https://localhost:8080/",
          "height": 35
        },
        "outputId": "63a469f1-ce9e-44f5-cbd5-28c66e88e19c"
      },
      "source": [
        "os.listdir(PATH)"
      ],
      "execution_count": 62,
      "outputs": [
        {
          "output_type": "execute_result",
          "data": {
            "text/plain": [
              "['datasets_11167_15520_train.csv', 'datasets_11167_15520_test.csv']"
            ]
          },
          "metadata": {
            "tags": []
          },
          "execution_count": 62
        }
      ]
    },
    {
      "cell_type": "code",
      "metadata": {
        "id": "t7akBvy5QDi9",
        "colab_type": "code",
        "colab": {}
      },
      "source": [
        "train_dir = os.path.join(PATH,'datasets_11167_15520_train.csv')\n",
        "test_dir = os.path.join(PATH,'datasets_11167_15520_test.csv')"
      ],
      "execution_count": 63,
      "outputs": []
    },
    {
      "cell_type": "code",
      "metadata": {
        "id": "ng_Fah_1IhS5",
        "colab_type": "code",
        "colab": {}
      },
      "source": [
        "train_df = pd.read_csv(train_dir)\n",
        "test_df = pd.read_csv(test_dir)\n",
        "train_df = train_df.reindex(np.random.permutation(train_df.index)) # shuffle the training set"
      ],
      "execution_count": 64,
      "outputs": []
    },
    {
      "cell_type": "code",
      "metadata": {
        "id": "F6v1wM4oQQah",
        "colab_type": "code",
        "colab": {
          "base_uri": "https://localhost:8080/",
          "height": 444
        },
        "outputId": "13903723-29d2-481f-a206-3bfce0c78e83"
      },
      "source": [
        "train_df.head(20) "
      ],
      "execution_count": 65,
      "outputs": [
        {
          "output_type": "execute_result",
          "data": {
            "text/html": [
              "<div>\n",
              "<style scoped>\n",
              "    .dataframe tbody tr th:only-of-type {\n",
              "        vertical-align: middle;\n",
              "    }\n",
              "\n",
              "    .dataframe tbody tr th {\n",
              "        vertical-align: top;\n",
              "    }\n",
              "\n",
              "    .dataframe thead th {\n",
              "        text-align: right;\n",
              "    }\n",
              "</style>\n",
              "<table border=\"1\" class=\"dataframe\">\n",
              "  <thead>\n",
              "    <tr style=\"text-align: right;\">\n",
              "      <th></th>\n",
              "      <th>battery_power</th>\n",
              "      <th>blue</th>\n",
              "      <th>clock_speed</th>\n",
              "      <th>dual_sim</th>\n",
              "      <th>fc</th>\n",
              "      <th>four_g</th>\n",
              "      <th>int_memory</th>\n",
              "      <th>m_dep</th>\n",
              "      <th>mobile_wt</th>\n",
              "      <th>n_cores</th>\n",
              "      <th>pc</th>\n",
              "      <th>px_height</th>\n",
              "      <th>px_width</th>\n",
              "      <th>ram</th>\n",
              "      <th>sc_h</th>\n",
              "      <th>sc_w</th>\n",
              "      <th>talk_time</th>\n",
              "      <th>three_g</th>\n",
              "      <th>touch_screen</th>\n",
              "      <th>wifi</th>\n",
              "      <th>price_range</th>\n",
              "    </tr>\n",
              "  </thead>\n",
              "  <tbody>\n",
              "    <tr>\n",
              "      <th>794</th>\n",
              "      <td>967</td>\n",
              "      <td>1</td>\n",
              "      <td>1.6</td>\n",
              "      <td>0</td>\n",
              "      <td>4</td>\n",
              "      <td>0</td>\n",
              "      <td>25</td>\n",
              "      <td>0.6</td>\n",
              "      <td>92</td>\n",
              "      <td>8</td>\n",
              "      <td>9</td>\n",
              "      <td>243</td>\n",
              "      <td>1642</td>\n",
              "      <td>3076</td>\n",
              "      <td>7</td>\n",
              "      <td>4</td>\n",
              "      <td>18</td>\n",
              "      <td>0</td>\n",
              "      <td>1</td>\n",
              "      <td>1</td>\n",
              "      <td>2</td>\n",
              "    </tr>\n",
              "    <tr>\n",
              "      <th>19</th>\n",
              "      <td>682</td>\n",
              "      <td>1</td>\n",
              "      <td>0.5</td>\n",
              "      <td>0</td>\n",
              "      <td>4</td>\n",
              "      <td>0</td>\n",
              "      <td>19</td>\n",
              "      <td>1.0</td>\n",
              "      <td>121</td>\n",
              "      <td>4</td>\n",
              "      <td>11</td>\n",
              "      <td>902</td>\n",
              "      <td>1064</td>\n",
              "      <td>2337</td>\n",
              "      <td>11</td>\n",
              "      <td>1</td>\n",
              "      <td>18</td>\n",
              "      <td>0</td>\n",
              "      <td>1</td>\n",
              "      <td>1</td>\n",
              "      <td>1</td>\n",
              "    </tr>\n",
              "    <tr>\n",
              "      <th>1459</th>\n",
              "      <td>1927</td>\n",
              "      <td>0</td>\n",
              "      <td>0.9</td>\n",
              "      <td>1</td>\n",
              "      <td>3</td>\n",
              "      <td>0</td>\n",
              "      <td>11</td>\n",
              "      <td>0.4</td>\n",
              "      <td>190</td>\n",
              "      <td>8</td>\n",
              "      <td>12</td>\n",
              "      <td>491</td>\n",
              "      <td>1506</td>\n",
              "      <td>2916</td>\n",
              "      <td>16</td>\n",
              "      <td>11</td>\n",
              "      <td>18</td>\n",
              "      <td>0</td>\n",
              "      <td>1</td>\n",
              "      <td>1</td>\n",
              "      <td>3</td>\n",
              "    </tr>\n",
              "    <tr>\n",
              "      <th>1276</th>\n",
              "      <td>586</td>\n",
              "      <td>0</td>\n",
              "      <td>1.4</td>\n",
              "      <td>1</td>\n",
              "      <td>10</td>\n",
              "      <td>1</td>\n",
              "      <td>8</td>\n",
              "      <td>0.5</td>\n",
              "      <td>142</td>\n",
              "      <td>8</td>\n",
              "      <td>14</td>\n",
              "      <td>116</td>\n",
              "      <td>598</td>\n",
              "      <td>3178</td>\n",
              "      <td>9</td>\n",
              "      <td>7</td>\n",
              "      <td>10</td>\n",
              "      <td>1</td>\n",
              "      <td>0</td>\n",
              "      <td>1</td>\n",
              "      <td>2</td>\n",
              "    </tr>\n",
              "    <tr>\n",
              "      <th>1233</th>\n",
              "      <td>1164</td>\n",
              "      <td>1</td>\n",
              "      <td>2.6</td>\n",
              "      <td>1</td>\n",
              "      <td>0</td>\n",
              "      <td>0</td>\n",
              "      <td>61</td>\n",
              "      <td>0.3</td>\n",
              "      <td>88</td>\n",
              "      <td>1</td>\n",
              "      <td>6</td>\n",
              "      <td>1107</td>\n",
              "      <td>1656</td>\n",
              "      <td>3859</td>\n",
              "      <td>11</td>\n",
              "      <td>10</td>\n",
              "      <td>17</td>\n",
              "      <td>0</td>\n",
              "      <td>1</td>\n",
              "      <td>0</td>\n",
              "      <td>3</td>\n",
              "    </tr>\n",
              "    <tr>\n",
              "      <th>...</th>\n",
              "      <td>...</td>\n",
              "      <td>...</td>\n",
              "      <td>...</td>\n",
              "      <td>...</td>\n",
              "      <td>...</td>\n",
              "      <td>...</td>\n",
              "      <td>...</td>\n",
              "      <td>...</td>\n",
              "      <td>...</td>\n",
              "      <td>...</td>\n",
              "      <td>...</td>\n",
              "      <td>...</td>\n",
              "      <td>...</td>\n",
              "      <td>...</td>\n",
              "      <td>...</td>\n",
              "      <td>...</td>\n",
              "      <td>...</td>\n",
              "      <td>...</td>\n",
              "      <td>...</td>\n",
              "      <td>...</td>\n",
              "      <td>...</td>\n",
              "    </tr>\n",
              "    <tr>\n",
              "      <th>1111</th>\n",
              "      <td>1735</td>\n",
              "      <td>1</td>\n",
              "      <td>1.9</td>\n",
              "      <td>1</td>\n",
              "      <td>0</td>\n",
              "      <td>1</td>\n",
              "      <td>59</td>\n",
              "      <td>0.7</td>\n",
              "      <td>148</td>\n",
              "      <td>6</td>\n",
              "      <td>0</td>\n",
              "      <td>137</td>\n",
              "      <td>846</td>\n",
              "      <td>3230</td>\n",
              "      <td>6</td>\n",
              "      <td>1</td>\n",
              "      <td>9</td>\n",
              "      <td>1</td>\n",
              "      <td>1</td>\n",
              "      <td>0</td>\n",
              "      <td>3</td>\n",
              "    </tr>\n",
              "    <tr>\n",
              "      <th>432</th>\n",
              "      <td>1421</td>\n",
              "      <td>0</td>\n",
              "      <td>2.8</td>\n",
              "      <td>0</td>\n",
              "      <td>0</td>\n",
              "      <td>1</td>\n",
              "      <td>57</td>\n",
              "      <td>0.4</td>\n",
              "      <td>165</td>\n",
              "      <td>1</td>\n",
              "      <td>2</td>\n",
              "      <td>781</td>\n",
              "      <td>1657</td>\n",
              "      <td>2775</td>\n",
              "      <td>13</td>\n",
              "      <td>8</td>\n",
              "      <td>14</td>\n",
              "      <td>1</td>\n",
              "      <td>0</td>\n",
              "      <td>1</td>\n",
              "      <td>3</td>\n",
              "    </tr>\n",
              "    <tr>\n",
              "      <th>1371</th>\n",
              "      <td>601</td>\n",
              "      <td>1</td>\n",
              "      <td>1.7</td>\n",
              "      <td>1</td>\n",
              "      <td>3</td>\n",
              "      <td>1</td>\n",
              "      <td>6</td>\n",
              "      <td>0.8</td>\n",
              "      <td>169</td>\n",
              "      <td>4</td>\n",
              "      <td>11</td>\n",
              "      <td>818</td>\n",
              "      <td>1827</td>\n",
              "      <td>2651</td>\n",
              "      <td>14</td>\n",
              "      <td>8</td>\n",
              "      <td>9</td>\n",
              "      <td>1</td>\n",
              "      <td>0</td>\n",
              "      <td>1</td>\n",
              "      <td>2</td>\n",
              "    </tr>\n",
              "    <tr>\n",
              "      <th>433</th>\n",
              "      <td>1464</td>\n",
              "      <td>0</td>\n",
              "      <td>0.5</td>\n",
              "      <td>1</td>\n",
              "      <td>0</td>\n",
              "      <td>1</td>\n",
              "      <td>17</td>\n",
              "      <td>0.7</td>\n",
              "      <td>153</td>\n",
              "      <td>6</td>\n",
              "      <td>8</td>\n",
              "      <td>418</td>\n",
              "      <td>1341</td>\n",
              "      <td>1277</td>\n",
              "      <td>13</td>\n",
              "      <td>6</td>\n",
              "      <td>19</td>\n",
              "      <td>1</td>\n",
              "      <td>0</td>\n",
              "      <td>0</td>\n",
              "      <td>1</td>\n",
              "    </tr>\n",
              "    <tr>\n",
              "      <th>1922</th>\n",
              "      <td>764</td>\n",
              "      <td>0</td>\n",
              "      <td>1.0</td>\n",
              "      <td>1</td>\n",
              "      <td>9</td>\n",
              "      <td>1</td>\n",
              "      <td>45</td>\n",
              "      <td>0.5</td>\n",
              "      <td>124</td>\n",
              "      <td>8</td>\n",
              "      <td>11</td>\n",
              "      <td>52</td>\n",
              "      <td>539</td>\n",
              "      <td>1341</td>\n",
              "      <td>19</td>\n",
              "      <td>1</td>\n",
              "      <td>12</td>\n",
              "      <td>1</td>\n",
              "      <td>0</td>\n",
              "      <td>0</td>\n",
              "      <td>0</td>\n",
              "    </tr>\n",
              "  </tbody>\n",
              "</table>\n",
              "<p>20 rows × 21 columns</p>\n",
              "</div>"
            ],
            "text/plain": [
              "      battery_power  blue  clock_speed  ...  touch_screen  wifi  price_range\n",
              "794             967     1          1.6  ...             1     1            2\n",
              "19              682     1          0.5  ...             1     1            1\n",
              "1459           1927     0          0.9  ...             1     1            3\n",
              "1276            586     0          1.4  ...             0     1            2\n",
              "1233           1164     1          2.6  ...             1     0            3\n",
              "...             ...   ...          ...  ...           ...   ...          ...\n",
              "1111           1735     1          1.9  ...             1     0            3\n",
              "432            1421     0          2.8  ...             0     1            3\n",
              "1371            601     1          1.7  ...             0     1            2\n",
              "433            1464     0          0.5  ...             0     0            1\n",
              "1922            764     0          1.0  ...             0     0            0\n",
              "\n",
              "[20 rows x 21 columns]"
            ]
          },
          "metadata": {
            "tags": []
          },
          "execution_count": 65
        }
      ]
    },
    {
      "cell_type": "code",
      "metadata": {
        "id": "gGdoN8-iQUoB",
        "colab_type": "code",
        "colab": {
          "base_uri": "https://localhost:8080/",
          "height": 237
        },
        "outputId": "ed77ce3e-51dc-454a-bcec-735c7fff27f6"
      },
      "source": [
        "print(train_df.isna().sum())"
      ],
      "execution_count": 66,
      "outputs": [
        {
          "output_type": "stream",
          "text": [
            "battery_power    0\n",
            "blue             0\n",
            "clock_speed      0\n",
            "dual_sim         0\n",
            "fc               0\n",
            "                ..\n",
            "talk_time        0\n",
            "three_g          0\n",
            "touch_screen     0\n",
            "wifi             0\n",
            "price_range      0\n",
            "Length: 21, dtype: int64\n"
          ],
          "name": "stdout"
        }
      ]
    },
    {
      "cell_type": "code",
      "metadata": {
        "id": "8ag-vYAwebnB",
        "colab_type": "code",
        "colab": {}
      },
      "source": [
        "# Calculate the Z-scores of each column in the training set and\n",
        "# write those Z-scores into a new pandas DataFrame named train_df_norm.\n",
        "train_df_mean = train_df.mean()\n",
        "train_df_std = train_df.std()\n",
        "train_df_norm = (train_df - train_df_mean)/train_df_std\n",
        "train_df_norm['blue'] = train_df['blue']\n",
        "train_df_norm['dual_sim'] = train_df['dual_sim']\n",
        "train_df_norm['four_g'] = train_df['four_g']\n",
        "train_df_norm['three_g'] = train_df['three_g']\n",
        "train_df_norm['touch_screen'] = train_df['touch_screen']\n",
        "train_df_norm['wifi'] = train_df['wifi']\n",
        "train_df_norm['price_range'] = train_df['price_range']"
      ],
      "execution_count": 67,
      "outputs": []
    },
    {
      "cell_type": "code",
      "metadata": {
        "id": "hWAIg5F1Y0WQ",
        "colab_type": "code",
        "colab": {
          "base_uri": "https://localhost:8080/",
          "height": 226
        },
        "outputId": "4e2da857-ab7d-40c9-8122-b356ae190ea3"
      },
      "source": [
        "train_df_norm.head()"
      ],
      "execution_count": 68,
      "outputs": [
        {
          "output_type": "execute_result",
          "data": {
            "text/html": [
              "<div>\n",
              "<style scoped>\n",
              "    .dataframe tbody tr th:only-of-type {\n",
              "        vertical-align: middle;\n",
              "    }\n",
              "\n",
              "    .dataframe tbody tr th {\n",
              "        vertical-align: top;\n",
              "    }\n",
              "\n",
              "    .dataframe thead th {\n",
              "        text-align: right;\n",
              "    }\n",
              "</style>\n",
              "<table border=\"1\" class=\"dataframe\">\n",
              "  <thead>\n",
              "    <tr style=\"text-align: right;\">\n",
              "      <th></th>\n",
              "      <th>battery_power</th>\n",
              "      <th>blue</th>\n",
              "      <th>clock_speed</th>\n",
              "      <th>dual_sim</th>\n",
              "      <th>fc</th>\n",
              "      <th>four_g</th>\n",
              "      <th>int_memory</th>\n",
              "      <th>m_dep</th>\n",
              "      <th>mobile_wt</th>\n",
              "      <th>n_cores</th>\n",
              "      <th>pc</th>\n",
              "      <th>px_height</th>\n",
              "      <th>px_width</th>\n",
              "      <th>ram</th>\n",
              "      <th>sc_h</th>\n",
              "      <th>sc_w</th>\n",
              "      <th>talk_time</th>\n",
              "      <th>three_g</th>\n",
              "      <th>touch_screen</th>\n",
              "      <th>wifi</th>\n",
              "      <th>price_range</th>\n",
              "    </tr>\n",
              "  </thead>\n",
              "  <tbody>\n",
              "    <tr>\n",
              "      <th>794</th>\n",
              "      <td>-0.6</td>\n",
              "      <td>1</td>\n",
              "      <td>0.1</td>\n",
              "      <td>0</td>\n",
              "      <td>-0.1</td>\n",
              "      <td>0</td>\n",
              "      <td>-0.4</td>\n",
              "      <td>0.3</td>\n",
              "      <td>-1.4</td>\n",
              "      <td>1.5</td>\n",
              "      <td>-0.2</td>\n",
              "      <td>-0.9</td>\n",
              "      <td>0.9</td>\n",
              "      <td>0.9</td>\n",
              "      <td>-1.3</td>\n",
              "      <td>-0.4</td>\n",
              "      <td>1.3</td>\n",
              "      <td>0</td>\n",
              "      <td>1</td>\n",
              "      <td>1</td>\n",
              "      <td>2</td>\n",
              "    </tr>\n",
              "    <tr>\n",
              "      <th>19</th>\n",
              "      <td>-1.3</td>\n",
              "      <td>1</td>\n",
              "      <td>-1.3</td>\n",
              "      <td>0</td>\n",
              "      <td>-0.1</td>\n",
              "      <td>0</td>\n",
              "      <td>-0.7</td>\n",
              "      <td>1.7</td>\n",
              "      <td>-0.5</td>\n",
              "      <td>-0.2</td>\n",
              "      <td>0.2</td>\n",
              "      <td>0.6</td>\n",
              "      <td>-0.4</td>\n",
              "      <td>0.2</td>\n",
              "      <td>-0.3</td>\n",
              "      <td>-1.1</td>\n",
              "      <td>1.3</td>\n",
              "      <td>0</td>\n",
              "      <td>1</td>\n",
              "      <td>1</td>\n",
              "      <td>1</td>\n",
              "    </tr>\n",
              "    <tr>\n",
              "      <th>1459</th>\n",
              "      <td>1.6</td>\n",
              "      <td>0</td>\n",
              "      <td>-0.8</td>\n",
              "      <td>1</td>\n",
              "      <td>-0.3</td>\n",
              "      <td>0</td>\n",
              "      <td>-1.2</td>\n",
              "      <td>-0.4</td>\n",
              "      <td>1.4</td>\n",
              "      <td>1.5</td>\n",
              "      <td>0.3</td>\n",
              "      <td>-0.3</td>\n",
              "      <td>0.6</td>\n",
              "      <td>0.7</td>\n",
              "      <td>0.9</td>\n",
              "      <td>1.2</td>\n",
              "      <td>1.3</td>\n",
              "      <td>0</td>\n",
              "      <td>1</td>\n",
              "      <td>1</td>\n",
              "      <td>3</td>\n",
              "    </tr>\n",
              "    <tr>\n",
              "      <th>1276</th>\n",
              "      <td>-1.5</td>\n",
              "      <td>0</td>\n",
              "      <td>-0.1</td>\n",
              "      <td>1</td>\n",
              "      <td>1.3</td>\n",
              "      <td>1</td>\n",
              "      <td>-1.3</td>\n",
              "      <td>-0.0</td>\n",
              "      <td>0.0</td>\n",
              "      <td>1.5</td>\n",
              "      <td>0.7</td>\n",
              "      <td>-1.2</td>\n",
              "      <td>-1.5</td>\n",
              "      <td>1.0</td>\n",
              "      <td>-0.8</td>\n",
              "      <td>0.3</td>\n",
              "      <td>-0.2</td>\n",
              "      <td>1</td>\n",
              "      <td>0</td>\n",
              "      <td>1</td>\n",
              "      <td>2</td>\n",
              "    </tr>\n",
              "    <tr>\n",
              "      <th>1233</th>\n",
              "      <td>-0.2</td>\n",
              "      <td>1</td>\n",
              "      <td>1.3</td>\n",
              "      <td>1</td>\n",
              "      <td>-1.0</td>\n",
              "      <td>0</td>\n",
              "      <td>1.6</td>\n",
              "      <td>-0.7</td>\n",
              "      <td>-1.5</td>\n",
              "      <td>-1.5</td>\n",
              "      <td>-0.6</td>\n",
              "      <td>1.0</td>\n",
              "      <td>0.9</td>\n",
              "      <td>1.6</td>\n",
              "      <td>-0.3</td>\n",
              "      <td>1.0</td>\n",
              "      <td>1.1</td>\n",
              "      <td>0</td>\n",
              "      <td>1</td>\n",
              "      <td>0</td>\n",
              "      <td>3</td>\n",
              "    </tr>\n",
              "  </tbody>\n",
              "</table>\n",
              "</div>"
            ],
            "text/plain": [
              "      battery_power  blue  clock_speed  ...  touch_screen  wifi  price_range\n",
              "794            -0.6     1          0.1  ...             1     1            2\n",
              "19             -1.3     1         -1.3  ...             1     1            1\n",
              "1459            1.6     0         -0.8  ...             1     1            3\n",
              "1276           -1.5     0         -0.1  ...             0     1            2\n",
              "1233           -0.2     1          1.3  ...             1     0            3\n",
              "\n",
              "[5 rows x 21 columns]"
            ]
          },
          "metadata": {
            "tags": []
          },
          "execution_count": 68
        }
      ]
    },
    {
      "cell_type": "code",
      "metadata": {
        "id": "HaxEJXatY7Hk",
        "colab_type": "code",
        "colab": {
          "base_uri": "https://localhost:8080/",
          "height": 320
        },
        "outputId": "7bfa382c-88aa-4e3b-ee72-7944eb4a0b7f"
      },
      "source": [
        "train_df_norm.describe()"
      ],
      "execution_count": 69,
      "outputs": [
        {
          "output_type": "execute_result",
          "data": {
            "text/html": [
              "<div>\n",
              "<style scoped>\n",
              "    .dataframe tbody tr th:only-of-type {\n",
              "        vertical-align: middle;\n",
              "    }\n",
              "\n",
              "    .dataframe tbody tr th {\n",
              "        vertical-align: top;\n",
              "    }\n",
              "\n",
              "    .dataframe thead th {\n",
              "        text-align: right;\n",
              "    }\n",
              "</style>\n",
              "<table border=\"1\" class=\"dataframe\">\n",
              "  <thead>\n",
              "    <tr style=\"text-align: right;\">\n",
              "      <th></th>\n",
              "      <th>battery_power</th>\n",
              "      <th>blue</th>\n",
              "      <th>clock_speed</th>\n",
              "      <th>dual_sim</th>\n",
              "      <th>fc</th>\n",
              "      <th>four_g</th>\n",
              "      <th>int_memory</th>\n",
              "      <th>m_dep</th>\n",
              "      <th>mobile_wt</th>\n",
              "      <th>n_cores</th>\n",
              "      <th>pc</th>\n",
              "      <th>px_height</th>\n",
              "      <th>px_width</th>\n",
              "      <th>ram</th>\n",
              "      <th>sc_h</th>\n",
              "      <th>sc_w</th>\n",
              "      <th>talk_time</th>\n",
              "      <th>three_g</th>\n",
              "      <th>touch_screen</th>\n",
              "      <th>wifi</th>\n",
              "      <th>price_range</th>\n",
              "    </tr>\n",
              "  </thead>\n",
              "  <tbody>\n",
              "    <tr>\n",
              "      <th>count</th>\n",
              "      <td>2000.0</td>\n",
              "      <td>2000.0</td>\n",
              "      <td>2000.0</td>\n",
              "      <td>2000.0</td>\n",
              "      <td>2000.0</td>\n",
              "      <td>2000.0</td>\n",
              "      <td>2000.0</td>\n",
              "      <td>2000.0</td>\n",
              "      <td>2000.0</td>\n",
              "      <td>2000.0</td>\n",
              "      <td>2000.0</td>\n",
              "      <td>2000.0</td>\n",
              "      <td>2000.0</td>\n",
              "      <td>2000.0</td>\n",
              "      <td>2000.0</td>\n",
              "      <td>2000.0</td>\n",
              "      <td>2000.0</td>\n",
              "      <td>2000.0</td>\n",
              "      <td>2000.0</td>\n",
              "      <td>2000.0</td>\n",
              "      <td>2000.0</td>\n",
              "    </tr>\n",
              "    <tr>\n",
              "      <th>mean</th>\n",
              "      <td>0.0</td>\n",
              "      <td>0.5</td>\n",
              "      <td>-0.0</td>\n",
              "      <td>0.5</td>\n",
              "      <td>0.0</td>\n",
              "      <td>0.5</td>\n",
              "      <td>-0.0</td>\n",
              "      <td>-0.0</td>\n",
              "      <td>0.0</td>\n",
              "      <td>-0.0</td>\n",
              "      <td>0.0</td>\n",
              "      <td>0.0</td>\n",
              "      <td>0.0</td>\n",
              "      <td>-0.0</td>\n",
              "      <td>0.0</td>\n",
              "      <td>-0.0</td>\n",
              "      <td>0.0</td>\n",
              "      <td>0.8</td>\n",
              "      <td>0.5</td>\n",
              "      <td>0.5</td>\n",
              "      <td>1.5</td>\n",
              "    </tr>\n",
              "    <tr>\n",
              "      <th>std</th>\n",
              "      <td>1.0</td>\n",
              "      <td>0.5</td>\n",
              "      <td>1.0</td>\n",
              "      <td>0.5</td>\n",
              "      <td>1.0</td>\n",
              "      <td>0.5</td>\n",
              "      <td>1.0</td>\n",
              "      <td>1.0</td>\n",
              "      <td>1.0</td>\n",
              "      <td>1.0</td>\n",
              "      <td>1.0</td>\n",
              "      <td>1.0</td>\n",
              "      <td>1.0</td>\n",
              "      <td>1.0</td>\n",
              "      <td>1.0</td>\n",
              "      <td>1.0</td>\n",
              "      <td>1.0</td>\n",
              "      <td>0.4</td>\n",
              "      <td>0.5</td>\n",
              "      <td>0.5</td>\n",
              "      <td>1.1</td>\n",
              "    </tr>\n",
              "    <tr>\n",
              "      <th>min</th>\n",
              "      <td>-1.7</td>\n",
              "      <td>0.0</td>\n",
              "      <td>-1.3</td>\n",
              "      <td>0.0</td>\n",
              "      <td>-1.0</td>\n",
              "      <td>0.0</td>\n",
              "      <td>-1.7</td>\n",
              "      <td>-1.4</td>\n",
              "      <td>-1.7</td>\n",
              "      <td>-1.5</td>\n",
              "      <td>-1.6</td>\n",
              "      <td>-1.5</td>\n",
              "      <td>-1.7</td>\n",
              "      <td>-1.7</td>\n",
              "      <td>-1.7</td>\n",
              "      <td>-1.3</td>\n",
              "      <td>-1.6</td>\n",
              "      <td>0.0</td>\n",
              "      <td>0.0</td>\n",
              "      <td>0.0</td>\n",
              "      <td>0.0</td>\n",
              "    </tr>\n",
              "    <tr>\n",
              "      <th>25%</th>\n",
              "      <td>-0.9</td>\n",
              "      <td>0.0</td>\n",
              "      <td>-1.0</td>\n",
              "      <td>0.0</td>\n",
              "      <td>-0.8</td>\n",
              "      <td>0.0</td>\n",
              "      <td>-0.9</td>\n",
              "      <td>-1.0</td>\n",
              "      <td>-0.9</td>\n",
              "      <td>-0.7</td>\n",
              "      <td>-0.8</td>\n",
              "      <td>-0.8</td>\n",
              "      <td>-0.9</td>\n",
              "      <td>-0.8</td>\n",
              "      <td>-0.8</td>\n",
              "      <td>-0.9</td>\n",
              "      <td>-0.9</td>\n",
              "      <td>1.0</td>\n",
              "      <td>0.0</td>\n",
              "      <td>0.0</td>\n",
              "      <td>0.8</td>\n",
              "    </tr>\n",
              "    <tr>\n",
              "      <th>50%</th>\n",
              "      <td>-0.0</td>\n",
              "      <td>0.0</td>\n",
              "      <td>-0.0</td>\n",
              "      <td>1.0</td>\n",
              "      <td>-0.3</td>\n",
              "      <td>1.0</td>\n",
              "      <td>-0.0</td>\n",
              "      <td>-0.0</td>\n",
              "      <td>0.0</td>\n",
              "      <td>-0.2</td>\n",
              "      <td>0.0</td>\n",
              "      <td>-0.2</td>\n",
              "      <td>-0.0</td>\n",
              "      <td>0.0</td>\n",
              "      <td>-0.1</td>\n",
              "      <td>-0.2</td>\n",
              "      <td>-0.0</td>\n",
              "      <td>1.0</td>\n",
              "      <td>1.0</td>\n",
              "      <td>1.0</td>\n",
              "      <td>1.5</td>\n",
              "    </tr>\n",
              "    <tr>\n",
              "      <th>75%</th>\n",
              "      <td>0.9</td>\n",
              "      <td>1.0</td>\n",
              "      <td>0.8</td>\n",
              "      <td>1.0</td>\n",
              "      <td>0.6</td>\n",
              "      <td>1.0</td>\n",
              "      <td>0.9</td>\n",
              "      <td>1.0</td>\n",
              "      <td>0.8</td>\n",
              "      <td>1.1</td>\n",
              "      <td>0.8</td>\n",
              "      <td>0.7</td>\n",
              "      <td>0.9</td>\n",
              "      <td>0.9</td>\n",
              "      <td>0.9</td>\n",
              "      <td>0.7</td>\n",
              "      <td>0.9</td>\n",
              "      <td>1.0</td>\n",
              "      <td>1.0</td>\n",
              "      <td>1.0</td>\n",
              "      <td>2.2</td>\n",
              "    </tr>\n",
              "    <tr>\n",
              "      <th>max</th>\n",
              "      <td>1.7</td>\n",
              "      <td>1.0</td>\n",
              "      <td>1.8</td>\n",
              "      <td>1.0</td>\n",
              "      <td>3.4</td>\n",
              "      <td>1.0</td>\n",
              "      <td>1.8</td>\n",
              "      <td>1.7</td>\n",
              "      <td>1.7</td>\n",
              "      <td>1.5</td>\n",
              "      <td>1.7</td>\n",
              "      <td>3.0</td>\n",
              "      <td>1.7</td>\n",
              "      <td>1.7</td>\n",
              "      <td>1.6</td>\n",
              "      <td>2.8</td>\n",
              "      <td>1.6</td>\n",
              "      <td>1.0</td>\n",
              "      <td>1.0</td>\n",
              "      <td>1.0</td>\n",
              "      <td>3.0</td>\n",
              "    </tr>\n",
              "  </tbody>\n",
              "</table>\n",
              "</div>"
            ],
            "text/plain": [
              "       battery_power   blue  clock_speed  ...  touch_screen   wifi  price_range\n",
              "count         2000.0 2000.0       2000.0  ...        2000.0 2000.0       2000.0\n",
              "mean             0.0    0.5         -0.0  ...           0.5    0.5          1.5\n",
              "std              1.0    0.5          1.0  ...           0.5    0.5          1.1\n",
              "min             -1.7    0.0         -1.3  ...           0.0    0.0          0.0\n",
              "25%             -0.9    0.0         -1.0  ...           0.0    0.0          0.8\n",
              "50%             -0.0    0.0         -0.0  ...           1.0    1.0          1.5\n",
              "75%              0.9    1.0          0.8  ...           1.0    1.0          2.2\n",
              "max              1.7    1.0          1.8  ...           1.0    1.0          3.0\n",
              "\n",
              "[8 rows x 21 columns]"
            ]
          },
          "metadata": {
            "tags": []
          },
          "execution_count": 69
        }
      ]
    },
    {
      "cell_type": "code",
      "metadata": {
        "id": "rBLIk-ctACD7",
        "colab_type": "code",
        "colab": {
          "base_uri": "https://localhost:8080/",
          "height": 531
        },
        "outputId": "7b0eae1c-a916-4744-d533-5de211934017"
      },
      "source": [
        "train_df_norm.info()"
      ],
      "execution_count": 70,
      "outputs": [
        {
          "output_type": "stream",
          "text": [
            "<class 'pandas.core.frame.DataFrame'>\n",
            "Int64Index: 2000 entries, 794 to 648\n",
            "Data columns (total 21 columns):\n",
            " #   Column         Non-Null Count  Dtype  \n",
            "---  ------         --------------  -----  \n",
            " 0   battery_power  2000 non-null   float64\n",
            " 1   blue           2000 non-null   int64  \n",
            " 2   clock_speed    2000 non-null   float64\n",
            " 3   dual_sim       2000 non-null   int64  \n",
            " 4   fc             2000 non-null   float64\n",
            " 5   four_g         2000 non-null   int64  \n",
            " 6   int_memory     2000 non-null   float64\n",
            " 7   m_dep          2000 non-null   float64\n",
            " 8   mobile_wt      2000 non-null   float64\n",
            " 9   n_cores        2000 non-null   float64\n",
            " 10  pc             2000 non-null   float64\n",
            " 11  px_height      2000 non-null   float64\n",
            " 12  px_width       2000 non-null   float64\n",
            " 13  ram            2000 non-null   float64\n",
            " 14  sc_h           2000 non-null   float64\n",
            " 15  sc_w           2000 non-null   float64\n",
            " 16  talk_time      2000 non-null   float64\n",
            " 17  three_g        2000 non-null   int64  \n",
            " 18  touch_screen   2000 non-null   int64  \n",
            " 19  wifi           2000 non-null   int64  \n",
            " 20  price_range    2000 non-null   int64  \n",
            "dtypes: float64(14), int64(7)\n",
            "memory usage: 343.8 KB\n"
          ],
          "name": "stdout"
        }
      ]
    },
    {
      "cell_type": "code",
      "metadata": {
        "id": "MMsEccuM-PuX",
        "colab_type": "code",
        "colab": {}
      },
      "source": [
        "train_df_norm_correlation = train_df"
      ],
      "execution_count": 71,
      "outputs": []
    },
    {
      "cell_type": "code",
      "metadata": {
        "id": "JVZyervgCcxC",
        "colab_type": "code",
        "colab": {
          "base_uri": "https://localhost:8080/",
          "height": 349
        },
        "outputId": "66fbc86a-41bb-4e94-8ca3-116114800080"
      },
      "source": [
        "import seaborn as sns\n",
        "corr = train_df.corr()\n",
        "sns.heatmap(corr)"
      ],
      "execution_count": 72,
      "outputs": [
        {
          "output_type": "execute_result",
          "data": {
            "text/plain": [
              "<matplotlib.axes._subplots.AxesSubplot at 0x7faebca2d6a0>"
            ]
          },
          "metadata": {
            "tags": []
          },
          "execution_count": 72
        },
        {
          "output_type": "display_data",
          "data": {
            "image/png": "[encoded data removed]",
            "text/plain": [
              "<Figure size 432x288 with 2 Axes>"
            ]
          },
          "metadata": {
            "tags": [],
            "needs_background": "light"
          }
        }
      ]
    },
    {
      "cell_type": "code",
      "metadata": {
        "id": "9sWNvPUKDKSM",
        "colab_type": "code",
        "colab": {
          "base_uri": "https://localhost:8080/",
          "height": 256
        },
        "outputId": "4664807b-b4e9-44e9-8eeb-c890dcde2ee7"
      },
      "source": [
        "print (corr['price_range'].sort_values(ascending=False), '\\n')"
      ],
      "execution_count": 73,
      "outputs": [
        {
          "output_type": "stream",
          "text": [
            "price_range      1.0\n",
            "ram              0.9\n",
            "battery_power    0.2\n",
            "px_width         0.2\n",
            "px_height        0.1\n",
            "                ... \n",
            "n_cores          0.0\n",
            "m_dep            0.0\n",
            "clock_speed     -0.0\n",
            "mobile_wt       -0.0\n",
            "touch_screen    -0.0\n",
            "Name: price_range, Length: 21, dtype: float64 \n",
            "\n"
          ],
          "name": "stdout"
        }
      ]
    },
    {
      "cell_type": "code",
      "metadata": {
        "id": "9gmxCNrkK67Q",
        "colab_type": "code",
        "colab": {}
      },
      "source": [
        "from sklearn.model_selection import train_test_split\n",
        "from sklearn.preprocessing import OneHotEncoder, StandardScaler"
      ],
      "execution_count": 74,
      "outputs": []
    },
    {
      "cell_type": "code",
      "metadata": {
        "id": "Bj84f-KqLAV5",
        "colab_type": "code",
        "colab": {
          "base_uri": "https://localhost:8080/",
          "height": 54
        },
        "outputId": "0f6481d6-9c86-4f2d-ddd9-30b2ca9c6b6b"
      },
      "source": [
        "# Divide data into features X and target (Classes) Y\n",
        "X = train_df_norm.iloc[:,:-1]\n",
        "Y = train_df_norm.iloc[:,-1]\n",
        "#Y = pd.get_dummies(Y)\n",
        "print(X.shape)\n",
        "print(Y.shape)\n",
        "Y_one = train_df_norm.iloc[:,-1]"
      ],
      "execution_count": 75,
      "outputs": [
        {
          "output_type": "stream",
          "text": [
            "(2000, 20)\n",
            "(2000,)\n"
          ],
          "name": "stdout"
        }
      ]
    },
    {
      "cell_type": "code",
      "metadata": {
        "id": "3b5jTZotLM5w",
        "colab_type": "code",
        "colab": {}
      },
      "source": [
        "enc = OneHotEncoder()\n",
        "Y = enc.fit_transform(Y[:, np.newaxis]).toarray()"
      ],
      "execution_count": 76,
      "outputs": []
    },
    {
      "cell_type": "code",
      "metadata": {
        "id": "euJurDVzLZ7x",
        "colab_type": "code",
        "colab": {}
      },
      "source": [
        "# scaler = StandardScaler()\n",
        "# X_scaled = scaler.fit_transform(X)"
      ],
      "execution_count": 24,
      "outputs": []
    },
    {
      "cell_type": "code",
      "metadata": {
        "id": "jrD2dWe7Lgeq",
        "colab_type": "code",
        "colab": {}
      },
      "source": [
        "X_train, X_test, Y_train, Y_test = train_test_split(\n",
        "    X, Y, test_size=0.2, random_state=2)"
      ],
      "execution_count": 77,
      "outputs": []
    },
    {
      "cell_type": "code",
      "metadata": {
        "id": "nv1bJj6yXfSb",
        "colab_type": "code",
        "colab": {}
      },
      "source": [
        "X_train_categorical = X_train[['blue', 'dual_sim', 'four_g', 'three_g', 'touch_screen', 'wifi']]\n",
        "X_test_categorical = X_test[['blue', 'dual_sim', 'four_g', 'three_g', 'touch_screen', 'wifi']]\n",
        "Y_train_decode = np.argmax(Y_train, axis=1)"
      ],
      "execution_count": 78,
      "outputs": []
    },
    {
      "cell_type": "code",
      "metadata": {
        "id": "5qVYQE9nXUbn",
        "colab_type": "code",
        "colab": {}
      },
      "source": [
        "#Chi Square\n",
        "fs = SelectKBest(score_func=chi2, k='all')\n",
        "fs.fit(X_train_categorical, Y_train)\n",
        "X_train_fs = fs.transform(X_train_categorical)\n",
        "X_test_fs = fs.transform(X_test_categorical)"
      ],
      "execution_count": 79,
      "outputs": []
    },
    {
      "cell_type": "code",
      "metadata": {
        "id": "DXhCYPV-ib36",
        "colab_type": "code",
        "colab": {}
      },
      "source": [
        "#Mutual Info Classification\n",
        "fs2 = SelectKBest(score_func=mutual_info_classif, k='all')\n",
        "fs2.fit(X_train_categorical, Y_train_decode)\n",
        "X_train_fs2 = fs2.transform(X_train_categorical)\n",
        "X_test_fs2 = fs2.transform(X_test_categorical)"
      ],
      "execution_count": 80,
      "outputs": []
    },
    {
      "cell_type": "code",
      "metadata": {
        "id": "zkc66Wntmhku",
        "colab_type": "code",
        "colab": {
          "base_uri": "https://localhost:8080/",
          "height": 391
        },
        "outputId": "b1a01cad-d0fc-4afb-bd46-0225b456f8b8"
      },
      "source": [
        "#Mutual Info Classification\n",
        "for i in range(len(fs2.scores_)):\n",
        "\tprint('Feature %d: %f' % (i, fs2.scores_[i]))\n",
        "# plot the scores\n",
        "plt.bar([i for i in range(len(fs2.scores_))], fs2.scores_)\n",
        "plt.title('Mutual Info Classification')\n",
        "plt.show()"
      ],
      "execution_count": 89,
      "outputs": [
        {
          "output_type": "stream",
          "text": [
            "Feature 0: 0.000000\n",
            "Feature 1: 0.000000\n",
            "Feature 2: 0.014591\n",
            "Feature 3: 0.000000\n",
            "Feature 4: 0.000000\n",
            "Feature 5: 0.051507\n"
          ],
          "name": "stdout"
        },
        {
          "output_type": "display_data",
          "data": {
            "image/png": "[encoded data removed]",
            "text/plain": [
              "<Figure size 432x288 with 1 Axes>"
            ]
          },
          "metadata": {
            "tags": [],
            "needs_background": "light"
          }
        }
      ]
    },
    {
      "cell_type": "code",
      "metadata": {
        "id": "0v8TXb_GayHZ",
        "colab_type": "code",
        "colab": {
          "base_uri": "https://localhost:8080/",
          "height": 206
        },
        "outputId": "9129bec0-9701-43e0-cdc4-68232b1620da"
      },
      "source": [
        "X_train_categorical.head()"
      ],
      "execution_count": 82,
      "outputs": [
        {
          "output_type": "execute_result",
          "data": {
            "text/html": [
              "<div>\n",
              "<style scoped>\n",
              "    .dataframe tbody tr th:only-of-type {\n",
              "        vertical-align: middle;\n",
              "    }\n",
              "\n",
              "    .dataframe tbody tr th {\n",
              "        vertical-align: top;\n",
              "    }\n",
              "\n",
              "    .dataframe thead th {\n",
              "        text-align: right;\n",
              "    }\n",
              "</style>\n",
              "<table border=\"1\" class=\"dataframe\">\n",
              "  <thead>\n",
              "    <tr style=\"text-align: right;\">\n",
              "      <th></th>\n",
              "      <th>blue</th>\n",
              "      <th>dual_sim</th>\n",
              "      <th>four_g</th>\n",
              "      <th>three_g</th>\n",
              "      <th>touch_screen</th>\n",
              "      <th>wifi</th>\n",
              "    </tr>\n",
              "  </thead>\n",
              "  <tbody>\n",
              "    <tr>\n",
              "      <th>1143</th>\n",
              "      <td>1</td>\n",
              "      <td>1</td>\n",
              "      <td>1</td>\n",
              "      <td>1</td>\n",
              "      <td>0</td>\n",
              "      <td>0</td>\n",
              "    </tr>\n",
              "    <tr>\n",
              "      <th>1009</th>\n",
              "      <td>0</td>\n",
              "      <td>0</td>\n",
              "      <td>0</td>\n",
              "      <td>1</td>\n",
              "      <td>0</td>\n",
              "      <td>0</td>\n",
              "    </tr>\n",
              "    <tr>\n",
              "      <th>1552</th>\n",
              "      <td>1</td>\n",
              "      <td>0</td>\n",
              "      <td>0</td>\n",
              "      <td>0</td>\n",
              "      <td>0</td>\n",
              "      <td>0</td>\n",
              "    </tr>\n",
              "    <tr>\n",
              "      <th>1793</th>\n",
              "      <td>1</td>\n",
              "      <td>1</td>\n",
              "      <td>0</td>\n",
              "      <td>1</td>\n",
              "      <td>0</td>\n",
              "      <td>1</td>\n",
              "    </tr>\n",
              "    <tr>\n",
              "      <th>120</th>\n",
              "      <td>1</td>\n",
              "      <td>1</td>\n",
              "      <td>0</td>\n",
              "      <td>0</td>\n",
              "      <td>1</td>\n",
              "      <td>0</td>\n",
              "    </tr>\n",
              "  </tbody>\n",
              "</table>\n",
              "</div>"
            ],
            "text/plain": [
              "      blue  dual_sim  four_g  three_g  touch_screen  wifi\n",
              "1143     1         1       1        1             0     0\n",
              "1009     0         0       0        1             0     0\n",
              "1552     1         0       0        0             0     0\n",
              "1793     1         1       0        1             0     1\n",
              "120      1         1       0        0             1     0"
            ]
          },
          "metadata": {
            "tags": []
          },
          "execution_count": 82
        }
      ]
    },
    {
      "cell_type": "code",
      "metadata": {
        "id": "wAdraVagY4MU",
        "colab_type": "code",
        "colab": {
          "base_uri": "https://localhost:8080/",
          "height": 391
        },
        "outputId": "6eb4cdfb-91d3-4d2b-bda7-f8fe56e8013c"
      },
      "source": [
        "#Chi Square\n",
        "for i in range(len(fs.scores_)):\n",
        "\tprint('Feature %d: %f' % (i, fs.scores_[i]))\n",
        "# plot the scores\n",
        "plt.bar([i for i in range(len(fs.scores_))], fs.scores_)\n",
        "plt.title('Chi Square')\n",
        "plt.show()"
      ],
      "execution_count": 90,
      "outputs": [
        {
          "output_type": "stream",
          "text": [
            "Feature 0: 0.441917\n",
            "Feature 1: 1.231882\n",
            "Feature 2: 0.492471\n",
            "Feature 3: 0.445237\n",
            "Feature 4: 0.814077\n",
            "Feature 5: 0.238558\n"
          ],
          "name": "stdout"
        },
        {
          "output_type": "display_data",
          "data": {
            "image/png": "[encoded data removed]",
            "text/plain": [
              "<Figure size 432x288 with 1 Axes>"
            ]
          },
          "metadata": {
            "tags": [],
            "needs_background": "light"
          }
        }
      ]
    },
    {
      "cell_type": "code",
      "metadata": {
        "id": "HB-S9w4mLl09",
        "colab_type": "code",
        "colab": {
          "base_uri": "https://localhost:8080/",
          "height": 35
        },
        "outputId": "5cf6623c-c9e2-494b-fa37-f7c1110cc6b6"
      },
      "source": [
        "n_features = X.shape[1]\n",
        "n_classes = Y.shape[1]\n",
        "print(n_classes)"
      ],
      "execution_count": 84,
      "outputs": [
        {
          "output_type": "stream",
          "text": [
            "4\n"
          ],
          "name": "stdout"
        }
      ]
    },
    {
      "cell_type": "code",
      "metadata": {
        "id": "H81jozlqLsyh",
        "colab_type": "code",
        "colab": {}
      },
      "source": [
        "#Model Using Feature Selection Chi Square \n",
        "model = tf.keras.models.Sequential()\n",
        "model.add(tf.keras.layers.Dense(32, input_dim = 17, activation = 'relu'))\n",
        "#model.add(tf.keras.layers.Dense(16, activation = 'relu'))\n",
        "model.add(tf.keras.layers.Dense(n_classes, activation='softmax'))"
      ],
      "execution_count": 85,
      "outputs": []
    },
    {
      "cell_type": "code",
      "metadata": {
        "id": "5MV_pzhfNbfY",
        "colab_type": "code",
        "colab": {
          "base_uri": "https://localhost:8080/",
          "height": 237
        },
        "outputId": "8b9bd711-0020-4e46-fe1b-6646fc6842ce"
      },
      "source": [
        "model.summary()"
      ],
      "execution_count": 86,
      "outputs": [
        {
          "output_type": "stream",
          "text": [
            "Model: \"sequential_4\"\n",
            "_________________________________________________________________\n",
            "Layer (type)                 Output Shape              Param #   \n",
            "=================================================================\n",
            "dense_8 (Dense)              (None, 32)                576       \n",
            "_________________________________________________________________\n",
            "dense_9 (Dense)              (None, 4)                 132       \n",
            "=================================================================\n",
            "Total params: 708\n",
            "Trainable params: 708\n",
            "Non-trainable params: 0\n",
            "_________________________________________________________________\n"
          ],
          "name": "stdout"
        }
      ]
    },
    {
      "cell_type": "code",
      "metadata": {
        "id": "SavlTh8_Nz1f",
        "colab_type": "code",
        "colab": {}
      },
      "source": [
        "model.compile(loss='categorical_crossentropy', \n",
        "                      optimizer='adam', \n",
        "                      metrics=['accuracy'])"
      ],
      "execution_count": 87,
      "outputs": []
    },
    {
      "cell_type": "code",
      "metadata": {
        "id": "SZ02UU6xnjvf",
        "colab_type": "code",
        "colab": {
          "base_uri": "https://localhost:8080/",
          "height": 226
        },
        "outputId": "bd1e103e-e91c-4244-eded-ebba89569556"
      },
      "source": [
        "#Dataset after Feature Selection\n",
        "X_train_chi = X_train.drop(['blue', 'three_g', 'wifi'], axis=1)\n",
        "X_test_chi = X_test.drop(['blue', 'three_g', 'wifi'], axis=1)\n",
        "X_train_mutual = X_train.drop(['blue', 'dual_sim', 'three_g', 'touch_screen'], axis=1)\n",
        "X_test_mutual = X_test.drop(['blue', 'dual_sim', 'three_g', 'touch_screen'], axis=1)\n",
        "\n",
        "X_train_chi.head()"
      ],
      "execution_count": 91,
      "outputs": [
        {
          "output_type": "execute_result",
          "data": {
            "text/html": [
              "<div>\n",
              "<style scoped>\n",
              "    .dataframe tbody tr th:only-of-type {\n",
              "        vertical-align: middle;\n",
              "    }\n",
              "\n",
              "    .dataframe tbody tr th {\n",
              "        vertical-align: top;\n",
              "    }\n",
              "\n",
              "    .dataframe thead th {\n",
              "        text-align: right;\n",
              "    }\n",
              "</style>\n",
              "<table border=\"1\" class=\"dataframe\">\n",
              "  <thead>\n",
              "    <tr style=\"text-align: right;\">\n",
              "      <th></th>\n",
              "      <th>battery_power</th>\n",
              "      <th>clock_speed</th>\n",
              "      <th>dual_sim</th>\n",
              "      <th>fc</th>\n",
              "      <th>four_g</th>\n",
              "      <th>int_memory</th>\n",
              "      <th>m_dep</th>\n",
              "      <th>mobile_wt</th>\n",
              "      <th>n_cores</th>\n",
              "      <th>pc</th>\n",
              "      <th>px_height</th>\n",
              "      <th>px_width</th>\n",
              "      <th>ram</th>\n",
              "      <th>sc_h</th>\n",
              "      <th>sc_w</th>\n",
              "      <th>talk_time</th>\n",
              "      <th>touch_screen</th>\n",
              "    </tr>\n",
              "  </thead>\n",
              "  <tbody>\n",
              "    <tr>\n",
              "      <th>1143</th>\n",
              "      <td>-0.8</td>\n",
              "      <td>-0.4</td>\n",
              "      <td>1</td>\n",
              "      <td>1.3</td>\n",
              "      <td>1</td>\n",
              "      <td>-0.1</td>\n",
              "      <td>1.0</td>\n",
              "      <td>-0.8</td>\n",
              "      <td>-0.7</td>\n",
              "      <td>0.2</td>\n",
              "      <td>0.0</td>\n",
              "      <td>-0.5</td>\n",
              "      <td>0.6</td>\n",
              "      <td>0.2</td>\n",
              "      <td>-0.6</td>\n",
              "      <td>1.5</td>\n",
              "      <td>0</td>\n",
              "    </tr>\n",
              "    <tr>\n",
              "      <th>1009</th>\n",
              "      <td>1.5</td>\n",
              "      <td>0.8</td>\n",
              "      <td>0</td>\n",
              "      <td>-0.1</td>\n",
              "      <td>0</td>\n",
              "      <td>1.0</td>\n",
              "      <td>-0.7</td>\n",
              "      <td>0.5</td>\n",
              "      <td>0.2</td>\n",
              "      <td>-0.5</td>\n",
              "      <td>-0.4</td>\n",
              "      <td>0.7</td>\n",
              "      <td>-0.8</td>\n",
              "      <td>-0.1</td>\n",
              "      <td>-1.3</td>\n",
              "      <td>0.5</td>\n",
              "      <td>0</td>\n",
              "    </tr>\n",
              "    <tr>\n",
              "      <th>1552</th>\n",
              "      <td>0.7</td>\n",
              "      <td>-1.0</td>\n",
              "      <td>0</td>\n",
              "      <td>-1.0</td>\n",
              "      <td>0</td>\n",
              "      <td>1.3</td>\n",
              "      <td>-1.4</td>\n",
              "      <td>-0.0</td>\n",
              "      <td>1.5</td>\n",
              "      <td>-1.5</td>\n",
              "      <td>0.9</td>\n",
              "      <td>1.2</td>\n",
              "      <td>-0.0</td>\n",
              "      <td>0.6</td>\n",
              "      <td>-0.6</td>\n",
              "      <td>-1.5</td>\n",
              "      <td>0</td>\n",
              "    </tr>\n",
              "    <tr>\n",
              "      <th>1793</th>\n",
              "      <td>0.1</td>\n",
              "      <td>1.6</td>\n",
              "      <td>1</td>\n",
              "      <td>-1.0</td>\n",
              "      <td>0</td>\n",
              "      <td>1.8</td>\n",
              "      <td>-0.0</td>\n",
              "      <td>-1.6</td>\n",
              "      <td>0.6</td>\n",
              "      <td>-0.6</td>\n",
              "      <td>-1.4</td>\n",
              "      <td>-0.8</td>\n",
              "      <td>-0.2</td>\n",
              "      <td>1.6</td>\n",
              "      <td>0.5</td>\n",
              "      <td>-1.1</td>\n",
              "      <td>0</td>\n",
              "    </tr>\n",
              "    <tr>\n",
              "      <th>120</th>\n",
              "      <td>1.1</td>\n",
              "      <td>0.1</td>\n",
              "      <td>1</td>\n",
              "      <td>-0.3</td>\n",
              "      <td>0</td>\n",
              "      <td>-1.2</td>\n",
              "      <td>-0.7</td>\n",
              "      <td>1.5</td>\n",
              "      <td>1.5</td>\n",
              "      <td>-0.5</td>\n",
              "      <td>-0.2</td>\n",
              "      <td>0.2</td>\n",
              "      <td>0.4</td>\n",
              "      <td>-0.1</td>\n",
              "      <td>0.7</td>\n",
              "      <td>-0.9</td>\n",
              "      <td>1</td>\n",
              "    </tr>\n",
              "  </tbody>\n",
              "</table>\n",
              "</div>"
            ],
            "text/plain": [
              "      battery_power  clock_speed  dual_sim  ...  sc_w  talk_time  touch_screen\n",
              "1143           -0.8         -0.4         1  ...  -0.6        1.5             0\n",
              "1009            1.5          0.8         0  ...  -1.3        0.5             0\n",
              "1552            0.7         -1.0         0  ...  -0.6       -1.5             0\n",
              "1793            0.1          1.6         1  ...   0.5       -1.1             0\n",
              "120             1.1          0.1         1  ...   0.7       -0.9             1\n",
              "\n",
              "[5 rows x 17 columns]"
            ]
          },
          "metadata": {
            "tags": []
          },
          "execution_count": 91
        }
      ]
    },
    {
      "cell_type": "code",
      "metadata": {
        "id": "whJ2OjnaNdg5",
        "colab_type": "code",
        "colab": {
          "base_uri": "https://localhost:8080/",
          "height": 384
        },
        "outputId": "9af6fff8-db30-4b98-88a6-82ff67c3bc82"
      },
      "source": [
        "#training using Chi Square\n",
        "history = model.fit(X_train_chi, Y_train,\n",
        "                                 batch_size=5,\n",
        "                                 epochs=10,\n",
        "                                 verbose=1,\n",
        "                                 validation_data=(X_test_chi, Y_test)\n",
        ")"
      ],
      "execution_count": 92,
      "outputs": [
        {
          "output_type": "stream",
          "text": [
            "Epoch 1/10\n",
            "320/320 [==============================] - 1s 3ms/step - loss: 1.2351 - accuracy: 0.4300 - val_loss: 1.0081 - val_accuracy: 0.5675\n",
            "Epoch 2/10\n",
            "320/320 [==============================] - 1s 2ms/step - loss: 0.8454 - accuracy: 0.6819 - val_loss: 0.6913 - val_accuracy: 0.7375\n",
            "Epoch 3/10\n",
            "320/320 [==============================] - 1s 2ms/step - loss: 0.6049 - accuracy: 0.8044 - val_loss: 0.5224 - val_accuracy: 0.8375\n",
            "Epoch 4/10\n",
            "320/320 [==============================] - 1s 2ms/step - loss: 0.4666 - accuracy: 0.8700 - val_loss: 0.4233 - val_accuracy: 0.8575\n",
            "Epoch 5/10\n",
            "320/320 [==============================] - 1s 2ms/step - loss: 0.3800 - accuracy: 0.9038 - val_loss: 0.3580 - val_accuracy: 0.9225\n",
            "Epoch 6/10\n",
            "320/320 [==============================] - 1s 2ms/step - loss: 0.3189 - accuracy: 0.9206 - val_loss: 0.3157 - val_accuracy: 0.9175\n",
            "Epoch 7/10\n",
            "320/320 [==============================] - 1s 2ms/step - loss: 0.2741 - accuracy: 0.9394 - val_loss: 0.2790 - val_accuracy: 0.9225\n",
            "Epoch 8/10\n",
            "320/320 [==============================] - 1s 2ms/step - loss: 0.2414 - accuracy: 0.9506 - val_loss: 0.2464 - val_accuracy: 0.9200\n",
            "Epoch 9/10\n",
            "320/320 [==============================] - 1s 3ms/step - loss: 0.2157 - accuracy: 0.9494 - val_loss: 0.2266 - val_accuracy: 0.9250\n",
            "Epoch 10/10\n",
            "320/320 [==============================] - 1s 2ms/step - loss: 0.1943 - accuracy: 0.9575 - val_loss: 0.2113 - val_accuracy: 0.9250\n"
          ],
          "name": "stdout"
        }
      ]
    },
    {
      "cell_type": "code",
      "metadata": {
        "id": "VSMDT3bLwLha",
        "colab_type": "code",
        "colab": {}
      },
      "source": [
        "#Model Using Feature Selection Mutual Info Classification\n",
        "model_mic = tf.keras.models.Sequential()\n",
        "model_mic.add(tf.keras.layers.Dense(32, input_dim = 16, activation = 'relu'))\n",
        "#model.add(tf.keras.layers.Dense(16, activation = 'relu'))\n",
        "model_mic.add(tf.keras.layers.Dense(n_classes, activation='softmax'))"
      ],
      "execution_count": 93,
      "outputs": []
    },
    {
      "cell_type": "code",
      "metadata": {
        "id": "gdosevqPwhoz",
        "colab_type": "code",
        "colab": {}
      },
      "source": [
        "model_mic.compile(loss='categorical_crossentropy', \n",
        "                      optimizer='adam', \n",
        "                      metrics=['accuracy'])"
      ],
      "execution_count": 94,
      "outputs": []
    },
    {
      "cell_type": "code",
      "metadata": {
        "id": "pjHAnxI0p7HR",
        "colab_type": "code",
        "colab": {
          "base_uri": "https://localhost:8080/",
          "height": 384
        },
        "outputId": "8f207705-1426-49f8-aa15-1b37a3570f9a"
      },
      "source": [
        "history_mutual = model_mic.fit(X_train_mutual, Y_train,\n",
        "                                 batch_size=5,\n",
        "                                 epochs=10,\n",
        "                                 verbose=1,\n",
        "                                 validation_data=(X_test_mutual, Y_test)\n",
        ")"
      ],
      "execution_count": 95,
      "outputs": [
        {
          "output_type": "stream",
          "text": [
            "Epoch 1/10\n",
            "320/320 [==============================] - 1s 3ms/step - loss: 1.2957 - accuracy: 0.3862 - val_loss: 1.0354 - val_accuracy: 0.5750\n",
            "Epoch 2/10\n",
            "320/320 [==============================] - 1s 2ms/step - loss: 0.8860 - accuracy: 0.6400 - val_loss: 0.7252 - val_accuracy: 0.7175\n",
            "Epoch 3/10\n",
            "320/320 [==============================] - 1s 2ms/step - loss: 0.6531 - accuracy: 0.7669 - val_loss: 0.5557 - val_accuracy: 0.8200\n",
            "Epoch 4/10\n",
            "320/320 [==============================] - 1s 2ms/step - loss: 0.5080 - accuracy: 0.8500 - val_loss: 0.4679 - val_accuracy: 0.8500\n",
            "Epoch 5/10\n",
            "320/320 [==============================] - 1s 2ms/step - loss: 0.4136 - accuracy: 0.9000 - val_loss: 0.3861 - val_accuracy: 0.8750\n",
            "Epoch 6/10\n",
            "320/320 [==============================] - 1s 2ms/step - loss: 0.3476 - accuracy: 0.9250 - val_loss: 0.3406 - val_accuracy: 0.8900\n",
            "Epoch 7/10\n",
            "320/320 [==============================] - 1s 2ms/step - loss: 0.3004 - accuracy: 0.9331 - val_loss: 0.3010 - val_accuracy: 0.8925\n",
            "Epoch 8/10\n",
            "320/320 [==============================] - 1s 2ms/step - loss: 0.2646 - accuracy: 0.9419 - val_loss: 0.2743 - val_accuracy: 0.9050\n",
            "Epoch 9/10\n",
            "320/320 [==============================] - 1s 2ms/step - loss: 0.2358 - accuracy: 0.9494 - val_loss: 0.2583 - val_accuracy: 0.9025\n",
            "Epoch 10/10\n",
            "320/320 [==============================] - 1s 2ms/step - loss: 0.2148 - accuracy: 0.9469 - val_loss: 0.2398 - val_accuracy: 0.9075\n"
          ],
          "name": "stdout"
        }
      ]
    },
    {
      "cell_type": "code",
      "metadata": {
        "id": "eZlMvhZmOdoB",
        "colab_type": "code",
        "colab": {
          "base_uri": "https://localhost:8080/",
          "height": 513
        },
        "outputId": "5f1291f9-3741-4191-b767-f6128465a852"
      },
      "source": [
        "#Chi Square\n",
        "acc = history.history['accuracy']\n",
        "val_acc = history.history['val_accuracy']\n",
        "\n",
        "loss = history.history['loss']\n",
        "val_loss = history.history['val_loss']\n",
        "\n",
        "plt.figure(figsize=(8, 8))\n",
        "plt.subplot(2, 1, 1)\n",
        "plt.plot(acc, label='Training Accuracy')\n",
        "plt.plot(val_acc, label='Validation Accuracy')\n",
        "plt.legend(loc='lower right')\n",
        "plt.ylabel('Accuracy')\n",
        "plt.ylim([min(plt.ylim()),1])\n",
        "plt.title('Training and Validation Accuracy Chi Square')\n",
        "\n",
        "plt.subplot(2, 1, 2)\n",
        "plt.plot(loss, label='Training Loss')\n",
        "plt.plot(val_loss, label='Validation Loss')\n",
        "plt.legend(loc='upper right')\n",
        "plt.ylabel('Cross Entropy')\n",
        "plt.ylim([0,1.0])\n",
        "plt.title('Training and Validation Loss Chi Square')\n",
        "plt.xlabel('epoch')\n",
        "plt.show()"
      ],
      "execution_count": 96,
      "outputs": [
        {
          "output_type": "display_data",
          "data": {
            "image/png": "[encoded data removed]",
            "text/plain": [
              "<Figure size 576x576 with 2 Axes>"
            ]
          },
          "metadata": {
            "tags": [],
            "needs_background": "light"
          }
        }
      ]
    },
    {
      "cell_type": "code",
      "metadata": {
        "id": "tCYH_CWM7o1l",
        "colab_type": "code",
        "colab": {
          "base_uri": "https://localhost:8080/",
          "height": 513
        },
        "outputId": "1926874b-d4c8-4bf3-e762-541425098322"
      },
      "source": [
        "#Mutual Info Classification\n",
        "acc = history_mutual.history['accuracy']\n",
        "val_acc = history_mutual.history['val_accuracy']\n",
        "\n",
        "loss = history_mutual.history['loss']\n",
        "val_loss = history_mutual.history['val_loss']\n",
        "\n",
        "plt.figure(figsize=(8, 8))\n",
        "plt.subplot(2, 1, 1)\n",
        "plt.plot(acc, label='Training Accuracy')\n",
        "plt.plot(val_acc, label='Validation Accuracy')\n",
        "plt.legend(loc='lower right')\n",
        "plt.ylabel('Accuracy')\n",
        "plt.ylim([min(plt.ylim()),1])\n",
        "plt.title('Training and Validation Accuracy Mutual Info Classification')\n",
        "\n",
        "plt.subplot(2, 1, 2)\n",
        "plt.plot(loss, label='Training Loss')\n",
        "plt.plot(val_loss, label='Validation Loss')\n",
        "plt.legend(loc='upper right')\n",
        "plt.ylabel('Cross Entropy')\n",
        "plt.ylim([0,1.0])\n",
        "plt.title('Training and Validation Loss Mutual Info Classification')\n",
        "plt.xlabel('epoch')\n",
        "plt.show()"
      ],
      "execution_count": 97,
      "outputs": [
        {
          "output_type": "display_data",
          "data": {
            "image/png": "[encoded data removed]",
            "text/plain": [
              "<Figure size 576x576 with 2 Axes>"
            ]
          },
          "metadata": {
            "tags": [],
            "needs_background": "light"
          }
        }
      ]
    },
    {
      "cell_type": "code",
      "metadata": {
        "id": "njnk22ZoungE",
        "colab_type": "code",
        "colab": {}
      },
      "source": [
        "#Model Using All Features\n",
        "model_all = tf.keras.models.Sequential()\n",
        "model_all.add(tf.keras.layers.Dense(32, input_dim = 20, activation = 'relu'))\n",
        "#model.add(tf.keras.layers.Dense(16, activation = 'relu'))\n",
        "model_all.add(tf.keras.layers.Dense(n_classes, activation='softmax'))"
      ],
      "execution_count": 98,
      "outputs": []
    },
    {
      "cell_type": "code",
      "metadata": {
        "id": "pjeVqoTUwFm5",
        "colab_type": "code",
        "colab": {}
      },
      "source": [
        "model_all.compile(loss='categorical_crossentropy', \n",
        "                      optimizer='adam', \n",
        "                      metrics=['accuracy'])"
      ],
      "execution_count": 99,
      "outputs": []
    },
    {
      "cell_type": "code",
      "metadata": {
        "id": "iCBvWyniwTmg",
        "colab_type": "code",
        "colab": {
          "base_uri": "https://localhost:8080/",
          "height": 384
        },
        "outputId": "823cba0a-ea37-4a75-9bf5-406f38180d15"
      },
      "source": [
        "history_all = model_all.fit(X_train, Y_train,\n",
        "                                 batch_size=5,\n",
        "                                 epochs=10,\n",
        "                                 verbose=1,\n",
        "                                 validation_data=(X_test, Y_test)\n",
        ")"
      ],
      "execution_count": 100,
      "outputs": [
        {
          "output_type": "stream",
          "text": [
            "Epoch 1/10\n",
            "320/320 [==============================] - 1s 3ms/step - loss: 1.1489 - accuracy: 0.5069 - val_loss: 0.8808 - val_accuracy: 0.6600\n",
            "Epoch 2/10\n",
            "320/320 [==============================] - 1s 2ms/step - loss: 0.7500 - accuracy: 0.7362 - val_loss: 0.6063 - val_accuracy: 0.8075\n",
            "Epoch 3/10\n",
            "320/320 [==============================] - 1s 2ms/step - loss: 0.5465 - accuracy: 0.8400 - val_loss: 0.4655 - val_accuracy: 0.8650\n",
            "Epoch 4/10\n",
            "320/320 [==============================] - 1s 2ms/step - loss: 0.4280 - accuracy: 0.8875 - val_loss: 0.3870 - val_accuracy: 0.8625\n",
            "Epoch 5/10\n",
            "320/320 [==============================] - 1s 2ms/step - loss: 0.3537 - accuracy: 0.9094 - val_loss: 0.3309 - val_accuracy: 0.8900\n",
            "Epoch 6/10\n",
            "320/320 [==============================] - 1s 2ms/step - loss: 0.3017 - accuracy: 0.9225 - val_loss: 0.2923 - val_accuracy: 0.9100\n",
            "Epoch 7/10\n",
            "320/320 [==============================] - 1s 2ms/step - loss: 0.2645 - accuracy: 0.9337 - val_loss: 0.2619 - val_accuracy: 0.9000\n",
            "Epoch 8/10\n",
            "320/320 [==============================] - 1s 2ms/step - loss: 0.2356 - accuracy: 0.9394 - val_loss: 0.2402 - val_accuracy: 0.9250\n",
            "Epoch 9/10\n",
            "320/320 [==============================] - 1s 2ms/step - loss: 0.2138 - accuracy: 0.9456 - val_loss: 0.2249 - val_accuracy: 0.9250\n",
            "Epoch 10/10\n",
            "320/320 [==============================] - 1s 2ms/step - loss: 0.1947 - accuracy: 0.9481 - val_loss: 0.2122 - val_accuracy: 0.9225\n"
          ],
          "name": "stdout"
        }
      ]
    },
    {
      "cell_type": "code",
      "metadata": {
        "id": "E2G9qKsbwhj_",
        "colab_type": "code",
        "colab": {
          "base_uri": "https://localhost:8080/",
          "height": 513
        },
        "outputId": "8232f078-40bc-49aa-8a2f-471ac71c8d8c"
      },
      "source": [
        "#Using all features\n",
        "acc = history_mutual.history['accuracy']\n",
        "val_acc = history_mutual.history['val_accuracy']\n",
        "\n",
        "loss = history_mutual.history['loss']\n",
        "val_loss = history_mutual.history['val_loss']\n",
        "\n",
        "plt.figure(figsize=(8, 8))\n",
        "plt.subplot(2, 1, 1)\n",
        "plt.plot(acc, label='Training Accuracy')\n",
        "plt.plot(val_acc, label='Validation Accuracy')\n",
        "plt.legend(loc='lower right')\n",
        "plt.ylabel('Accuracy')\n",
        "plt.ylim([min(plt.ylim()),1])\n",
        "plt.title('Training and Validation Accuracy Mutual Info Classification')\n",
        "\n",
        "plt.subplot(2, 1, 2)\n",
        "plt.plot(loss, label='Training Loss')\n",
        "plt.plot(val_loss, label='Validation Loss')\n",
        "plt.legend(loc='upper right')\n",
        "plt.ylabel('Cross Entropy')\n",
        "plt.ylim([0,1.0])\n",
        "plt.title('Training and Validation Loss Mutual Info Classification')\n",
        "plt.xlabel('epoch')\n",
        "plt.show()"
      ],
      "execution_count": 101,
      "outputs": [
        {
          "output_type": "display_data",
          "data": {
            "image/png": "[encoded data removed]",
            "text/plain": [
              "<Figure size 576x576 with 2 Axes>"
            ]
          },
          "metadata": {
            "tags": [],
            "needs_background": "light"
          }
        }
      ]
    }
  ]
}